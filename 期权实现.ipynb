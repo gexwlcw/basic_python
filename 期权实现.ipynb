{
 "cells": [
  {
   "cell_type": "code",
   "execution_count": 2,
   "metadata": {
    "collapsed": true
   },
   "outputs": [],
   "source": [
    "spot = 2.45\n",
    "strike = 2.5\n",
    "maturity = 0.25\n",
    "r = 0.05\n",
    "vol = 0.25"
   ]
  },
  {
   "cell_type": "code",
   "execution_count": 3,
   "metadata": {
    "collapsed": true
   },
   "outputs": [],
   "source": [
    "#基于BS公式的期权定价\n",
    "from math import log, sqrt, exp\n",
    "from scipy.stats import norm\n",
    "\n",
    "def call_option_pricer(spot, strike, maturity, r, vol):\n",
    "\n",
    "    d1 = (log(spot/strike) + (r + 0.5 * vol *vol) * maturity) / vol / sqrt(maturity)\n",
    "    d2 = d1 - vol * sqrt(maturity)\n",
    "\n",
    "    price = spot * norm.cdf(d1) - strike * exp(-r*maturity) * norm.cdf(d2)\n",
    "    return price"
   ]
  },
  {
   "cell_type": "code",
   "execution_count": 4,
   "metadata": {
    "collapsed": false
   },
   "outputs": [
    {
     "name": "stdout",
     "output_type": "stream",
     "text": [
      "期权价格是：0.11333\n"
     ]
    }
   ],
   "source": [
    "print('期权价格是：{0:.5f}'.format(call_option_pricer(spot, strike, maturity, r, vol)))"
   ]
  },
  {
   "cell_type": "markdown",
   "metadata": {},
   "source": [
    "使用numpy实现批量计算"
   ]
  },
  {
   "cell_type": "markdown",
   "metadata": {},
   "source": [
    "普通循环计算"
   ]
  },
  {
   "cell_type": "code",
   "execution_count": 5,
   "metadata": {
    "collapsed": true
   },
   "outputs": [],
   "source": [
    "import time\n",
    "import numpy as np\n",
    "\n",
    "portfolioSize = range(1, 10000, 500)\n",
    "timeSpent = []\n",
    "\n",
    "for size in portfolioSize:\n",
    "    now = time.time()\n",
    "    strikes = np.linspace(2.0,3.0,size)\n",
    "    for i in range(size):\n",
    "        res = call_option_pricer(spot, strikes[i], maturity, r, vol)\n",
    "    timeSpent.append(time.time() - now)"
   ]
  },
  {
   "cell_type": "code",
   "execution_count": 6,
   "metadata": {
    "collapsed": false
   },
   "outputs": [
    {
     "name": "stdout",
     "output_type": "stream",
     "text": [
      "Using matplotlib backend: Qt5Agg\n"
     ]
    },
    {
     "data": {
      "text/plain": [
       "<matplotlib.text.Text at 0x1c75a7a8240>"
      ]
     },
     "execution_count": 6,
     "metadata": {},
     "output_type": "execute_result"
    }
   ],
   "source": [
    "%matplotlib\n",
    "from matplotlib import pylab\n",
    "import seaborn as sns\n",
    "\n",
    "sns.set(style=\"ticks\")\n",
    "pylab.figure(figsize = (12,8))\n",
    "pylab.bar(portfolioSize, timeSpent, color = 'r', width =300)\n",
    "pylab.grid(True)\n",
    "pylab.title(u'期权计算时间耗时（单位：秒）',  fontsize = 18)\n",
    "pylab.ylabel(u'时间（s)',  fontsize = 15)\n",
    "pylab.xlabel(u'组合数量',  fontsize = 15)\n"
   ]
  },
  {
   "cell_type": "markdown",
   "metadata": {},
   "source": [
    "使用numpy向量计算"
   ]
  },
  {
   "cell_type": "code",
   "execution_count": 7,
   "metadata": {
    "collapsed": false
   },
   "outputs": [
    {
     "data": {
      "text/plain": [
       "array([  2.71828183e+00,   1.52434373e+11,   8.54813429e+21,\n",
       "         4.79357761e+32,   2.68811714e+43])"
      ]
     },
     "execution_count": 7,
     "metadata": {},
     "output_type": "execute_result"
    }
   ],
   "source": [
    "sample = np.linspace(1.0, 100.0, 5)\n",
    "np.exp(sample)"
   ]
  },
  {
   "cell_type": "code",
   "execution_count": 8,
   "metadata": {
    "collapsed": false
   },
   "outputs": [],
   "source": [
    "# 使用numpy的向量函数重写Black - Scholes公式\n",
    "def call_option_pricer_nunmpy(spot, strike, maturity, r, vol):\n",
    "\n",
    "    d1 = (np.log(spot/strike) + (r + 0.5 * vol *vol) * maturity) / vol / np.sqrt(maturity)\n",
    "    d2 = d1 - vol * np.sqrt(maturity)\n",
    "\n",
    "    price = spot * norm.cdf(d1) - strike * np.exp(-r*maturity) * norm.cdf(d2)\n",
    "    return price"
   ]
  },
  {
   "cell_type": "code",
   "execution_count": 9,
   "metadata": {
    "collapsed": true
   },
   "outputs": [],
   "source": [
    "timeSpentNumpy = []\n",
    "for size in portfolioSize:\n",
    "    now = time.time()\n",
    "    strikes = np.linspace(2.0,3.0, size)\n",
    "    res = call_option_pricer_nunmpy(spot, strikes, maturity, r, vol)\n",
    "    timeSpentNumpy.append(time.time() - now)"
   ]
  },
  {
   "cell_type": "code",
   "execution_count": 10,
   "metadata": {
    "collapsed": false
   },
   "outputs": [
    {
     "data": {
      "text/plain": [
       "<matplotlib.text.Text at 0x1c75e75f8d0>"
      ]
     },
     "execution_count": 10,
     "metadata": {},
     "output_type": "execute_result"
    }
   ],
   "source": [
    "pylab.figure(figsize = (12,8))\n",
    "pylab.bar(portfolioSize, timeSpentNumpy, color = 'r', width = 300)\n",
    "pylab.grid(True)\n",
    "pylab.title(u'期权计算时间耗时（单位：秒）- numpy加速版',  fontsize = 18)\n",
    "pylab.ylabel(u'时间（s)',fontsize = 15)\n",
    "pylab.xlabel(u'组合数量',  fontsize = 15)\n"
   ]
  },
  {
   "cell_type": "code",
   "execution_count": 11,
   "metadata": {
    "collapsed": false
   },
   "outputs": [
    {
     "name": "stderr",
     "output_type": "stream",
     "text": [
      "C:\\local\\Anaconda3-4.3.1-Windows-x86_64\\lib\\site-packages\\ipykernel\\__main__.py:3: RuntimeWarning: divide by zero encountered in log\n",
      "  app.launch_new_instance()\n"
     ]
    },
    {
     "data": {
      "text/plain": [
       "<matplotlib.text.Text at 0x1c75f04f438>"
      ]
     },
     "execution_count": 11,
     "metadata": {},
     "output_type": "execute_result"
    }
   ],
   "source": [
    "fig = pylab.figure(figsize = (12,8))\n",
    "ax = fig.gca()\n",
    "pylab.plot(portfolioSize, np.log10(timeSpent), portfolioSize, np.log(timeSpentNumpy))\n",
    "pylab.grid(True)\n",
    "from matplotlib.ticker import FuncFormatter\n",
    "def millions(x, pos):\n",
    "    'The two args are the value and tick position'\n",
    "    return '$10^{%.0f}$' % (x)\n",
    "formatter = FuncFormatter(millions)\n",
    "ax.yaxis.set_major_formatter(formatter)\n",
    "pylab.title(u'期权计算时间耗时（单位：秒）',  fontsize = 18)\n",
    "pylab.legend([u'循环计算', u'numpy向量加速'], loc = 'upper center', ncol = 2)\n",
    "pylab.ylabel(u'时间（秒)',  fontsize = 15)\n",
    "pylab.xlabel(u'组合数量',  fontsize = 15)\n"
   ]
  },
  {
   "cell_type": "markdown",
   "metadata": {},
   "source": [
    "使用scipy做模拟计算"
   ]
  },
  {
   "cell_type": "code",
   "execution_count": 12,
   "metadata": {
    "collapsed": false
   },
   "outputs": [
    {
     "data": {
      "text/plain": [
       "array([-1.55651354, -0.38803349, -1.86371403, -2.09241343, -0.00991801,\n",
       "       -0.36614416,  0.48052448,  0.00959094, -1.52584825, -1.72292487])"
      ]
     },
     "execution_count": 12,
     "metadata": {},
     "output_type": "execute_result"
    }
   ],
   "source": [
    "import scipy\n",
    "scipy.random.randn(10)"
   ]
  },
  {
   "cell_type": "code",
   "execution_count": 13,
   "metadata": {
    "collapsed": false
   },
   "outputs": [
    {
     "name": "stdout",
     "output_type": "stream",
     "text": [
      "均值 0.0123920137687\n",
      "标准值 0.98543805243\n"
     ]
    }
   ],
   "source": [
    "pylab.figure(figsize = (12, 8))\n",
    "randomSeries = scipy.random.randn(10000)\n",
    "pylab.plot(randomSeries)\n",
    "print('均值',randomSeries.mean())\n",
    "print('标准值',randomSeries.std())"
   ]
  },
  {
   "cell_type": "code",
   "execution_count": 14,
   "metadata": {
    "collapsed": true
   },
   "outputs": [],
   "source": [
    "# 期权计算的蒙特卡洛方法\n",
    "def call_option_pricer_monte_carlo(spot, strike, maturity, r, vol, numOfPath = 5000):\n",
    "    randomSeries = scipy.random.randn(numOfPath)\n",
    "    s_t = spot * np.exp((r - 0.5 * vol * vol) * maturity + randomSeries * vol * sqrt(maturity))\n",
    "    sumValue = np.maximum(s_t - strike, 0.0).sum()\n",
    "    price = exp(-r*maturity) * sumValue / numOfPath\n",
    "    return price"
   ]
  },
  {
   "cell_type": "code",
   "execution_count": 15,
   "metadata": {
    "collapsed": false
   },
   "outputs": [
    {
     "data": {
      "text/plain": [
       "0.11086162956661633"
      ]
     },
     "execution_count": 15,
     "metadata": {},
     "output_type": "execute_result"
    }
   ],
   "source": [
    "call_option_pricer_monte_carlo(spot, strike, maturity, r, vol)"
   ]
  },
  {
   "cell_type": "code",
   "execution_count": 16,
   "metadata": {
    "collapsed": false
   },
   "outputs": [
    {
     "data": {
      "text/plain": [
       "array([ 0.47958486,  0.47948593,  0.47938701, ...,  0.00942269,\n",
       "        0.00941679,  0.00941089])"
      ]
     },
     "execution_count": 16,
     "metadata": {},
     "output_type": "execute_result"
    }
   ],
   "source": [
    "res"
   ]
  },
  {
   "cell_type": "markdown",
   "metadata": {},
   "source": [
    "计算隐含波动率"
   ]
  },
  {
   "cell_type": "code",
   "execution_count": 18,
   "metadata": {
    "collapsed": true
   },
   "outputs": [],
   "source": [
    "# 目标函数，目标价格由target确定\n",
    "class cost_function:\n",
    "    def __init__(self, target):\n",
    "        self.targetValue = target\n",
    "\n",
    "    def __call__(self, x):\n",
    "        return call_option_pricer(spot, strike, maturity, r, x) - self.targetValue"
   ]
  },
  {
   "cell_type": "code",
   "execution_count": 21,
   "metadata": {
    "collapsed": false
   },
   "outputs": [],
   "source": [
    "# 假设我们使用vol初值作为目标\n",
    "target = call_option_pricer(spot, strike, maturity, r, vol)\n",
    "cost_sampel = cost_function(target)\n",
    "\n",
    "# 使用Brent算法求解\n",
    "impliedVol = scipy.optimize.brentq(cost_sampel, 0.001, 0.5)"
   ]
  },
  {
   "cell_type": "code",
   "execution_count": 23,
   "metadata": {
    "collapsed": false
   },
   "outputs": [
    {
     "name": "stdout",
     "output_type": "stream",
     "text": [
      "imvol.0.250\n"
     ]
    }
   ],
   "source": [
    "print('imvol.{0:.3f}'.format(impliedVol))"
   ]
  },
  {
   "cell_type": "code",
   "execution_count": null,
   "metadata": {
    "collapsed": true
   },
   "outputs": [],
   "source": []
  }
 ],
 "metadata": {
  "kernelspec": {
   "display_name": "Python 3",
   "language": "python",
   "name": "python3"
  },
  "language_info": {
   "codemirror_mode": {
    "name": "ipython",
    "version": 3
   },
   "file_extension": ".py",
   "mimetype": "text/x-python",
   "name": "python",
   "nbconvert_exporter": "python",
   "pygments_lexer": "ipython3",
   "version": "3.6.8"
  }
 },
 "nbformat": 4,
 "nbformat_minor": 2
}
