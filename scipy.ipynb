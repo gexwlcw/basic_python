{
 "cells": [
  {
   "cell_type": "code",
   "execution_count": 1,
   "metadata": {
    "collapsed": true
   },
   "outputs": [],
   "source": [
    "import numpy as np"
   ]
  },
  {
   "cell_type": "code",
   "execution_count": 2,
   "metadata": {
    "collapsed": false
   },
   "outputs": [],
   "source": [
    "import scipy.stats as stats\n",
    "import scipy.optimize as opt"
   ]
  },
  {
   "cell_type": "markdown",
   "metadata": {},
   "source": [
    "生成随机数"
   ]
  },
  {
   "cell_type": "code",
   "execution_count": 3,
   "metadata": {
    "collapsed": false
   },
   "outputs": [
    {
     "name": "stdout",
     "output_type": "stream",
     "text": [
      "[ 0.62680558  0.88904953  0.74821515  0.62422349  0.13738671  0.22069296\n",
      "  0.43881426  0.90986961  0.37644216  0.85357277]\n"
     ]
    }
   ],
   "source": [
    "rv_unif = stats.uniform.rvs(size = 10)\n",
    "print(rv_unif)"
   ]
  },
  {
   "cell_type": "code",
   "execution_count": 4,
   "metadata": {
    "collapsed": false
   },
   "outputs": [
    {
     "name": "stdout",
     "output_type": "stream",
     "text": [
      "[ 0.97696485  0.37212412  0.42505077  0.45942041  0.75632943  0.53315014\n",
      "  0.76956004  0.84080739  0.88617364  0.4872545 ]\n"
     ]
    }
   ],
   "source": [
    "rv_beta = stats.beta.rvs(size = 10, a = 4, b = 2)\n",
    "print(rv_beta)"
   ]
  },
  {
   "cell_type": "code",
   "execution_count": 5,
   "metadata": {
    "collapsed": false
   },
   "outputs": [
    {
     "name": "stdout",
     "output_type": "stream",
     "text": [
      "method1:\n",
      "[ 0.43857338  0.9411551   0.75116671  0.92002864  0.62030521  0.56585548\n",
      "  0.41843548  0.5953096   0.88983036  0.94675351]\n",
      "method2:\n",
      "[ 0.43857338  0.9411551   0.75116671  0.92002864  0.62030521  0.56585548\n",
      "  0.41843548  0.5953096   0.88983036  0.94675351]\n"
     ]
    }
   ],
   "source": [
    "np.random.seed(seed=2015)\n",
    "rv_beta = stats.beta.rvs(size=10, a = 4, b = 2)\n",
    "print('method1:')\n",
    "print(rv_beta)\n",
    "#用freeze的功能先定义beta的参数，再去随机数\n",
    "np.random.seed(seed=2015)\n",
    "beta = stats.beta(a = 4, b = 2)\n",
    "print('method2:')\n",
    "print(beta.rvs(size=10))"
   ]
  },
  {
   "cell_type": "markdown",
   "metadata": {},
   "source": [
    "假设检验"
   ]
  },
  {
   "cell_type": "code",
   "execution_count": 6,
   "metadata": {
    "collapsed": false
   },
   "outputs": [
    {
     "name": "stdout",
     "output_type": "stream",
     "text": [
      "mean of data: 0.705195\n",
      "median of data:0.658167882933\n",
      "std of data:2.08967006905\n"
     ]
    }
   ],
   "source": [
    "norm_dist = stats.norm(loc = 0.5, scale = 2)\n",
    "n = 200\n",
    "dat = norm_dist.rvs(size = n)\n",
    "print('mean of data: {0:.6f}'.format(np.mean(dat))) ##保留几位小数\n",
    "print('median of data:'+str(np.median(dat)))\n",
    "print('std of data:'+str(np.std(dat)))"
   ]
  },
  {
   "cell_type": "code",
   "execution_count": 7,
   "metadata": {
    "collapsed": false
   },
   "outputs": [
    {
     "name": "stdout",
     "output_type": "stream",
     "text": [
      "KS-test result: D: 0.04468, p_value: 0.819465\n"
     ]
    }
   ],
   "source": [
    "mu = np.mean(dat)\n",
    "sigma = np.std(dat)\n",
    "stat_val, p_val = stats.kstest(dat, 'norm', (mu, sigma))\n",
    "print(\"KS-test result: D: {0:.5f}, p_value: {1:5f}\".format(stat_val, p_val))"
   ]
  },
  {
   "cell_type": "code",
   "execution_count": 8,
   "metadata": {
    "collapsed": false
   },
   "outputs": [
    {
     "name": "stdout",
     "output_type": "stream",
     "text": [
      "tt-test result: D: 4.76056, p_value: 0.00000\n"
     ]
    }
   ],
   "source": [
    "stat_val, p_val = stats.ttest_1samp(dat, 0)\n",
    "print(\"tt-test result: D: {0:.5f}, p_value: {1:.5f}\".format(stat_val, p_val))"
   ]
  },
  {
   "cell_type": "code",
   "execution_count": 9,
   "metadata": {
    "collapsed": false
   },
   "outputs": [
    {
     "name": "stdout",
     "output_type": "stream",
     "text": [
      "Two-sample t-statistic D =5.56497, p-value = 0.000000\n"
     ]
    },
    {
     "name": "stderr",
     "output_type": "stream",
     "text": [
      "C:\\local\\Anaconda3-4.3.1-Windows-x86_64\\lib\\site-packages\\scipy\\stats\\_continuous_distns.py:127: VisibleDeprecationWarning: using a non-integer number instead of an integer will result in an error in the future\n",
      "  return self._random_state.standard_normal(self._size)\n"
     ]
    }
   ],
   "source": [
    "norm_dist2 = stats.norm(loc = -0.2, scale = 1.2)\n",
    "dat2 = norm_dist2.rvs(size=n/2)\n",
    "stat_val, p_val = stats.ttest_ind(dat, dat2, equal_var=False)\n",
    "print('Two-sample t-statistic D ={0:.5f}, p-value = {1:.6f}'.format(stat_val, p_val))"
   ]
  },
  {
   "cell_type": "code",
   "execution_count": 10,
   "metadata": {
    "collapsed": true
   },
   "outputs": [],
   "source": [
    "norm_dist = stats.norm(loc=0, scale=1.8)\n",
    "dat = norm_dist.rvs(size=100)\n",
    "info = stats.describe(dat)"
   ]
  },
  {
   "cell_type": "code",
   "execution_count": 11,
   "metadata": {
    "collapsed": false
   },
   "outputs": [
    {
     "data": {
      "text/plain": [
       "DescribeResult(nobs=100, minmax=(-4.1241456468737887, 4.8257760248852302), mean=0.096291359220947628, variance=2.8871929246345207, skewness=-0.0025654879468099447, kurtosis=-0.3174634211772229)"
      ]
     },
     "execution_count": 11,
     "metadata": {},
     "output_type": "execute_result"
    }
   ],
   "source": [
    "info"
   ]
  },
  {
   "cell_type": "markdown",
   "metadata": {},
   "source": [
    "数据对于分布拟合"
   ]
  },
  {
   "cell_type": "code",
   "execution_count": 12,
   "metadata": {
    "collapsed": false
   },
   "outputs": [
    {
     "name": "stdout",
     "output_type": "stream",
     "text": [
      "MLE of data mean:0.0306168984906\n",
      "MLE of data standard deviation:1.80183447112\n"
     ]
    }
   ],
   "source": [
    "norm_dist = stats.norm(loc=0, scale=1.8)\n",
    "dat = norm_dist.rvs(size=10000)\n",
    "mu, sigma = stats.norm.fit(dat)\n",
    "print (\"MLE of data mean:\" + str(mu))\n",
    "print (\"MLE of data standard deviation:\" + str(sigma))"
   ]
  },
  {
   "cell_type": "markdown",
   "metadata": {},
   "source": [
    "两组数据的相关系数， pearson和spearman"
   ]
  },
  {
   "cell_type": "markdown",
   "metadata": {},
   "source": [
    "pearson: 正常的相关系数\n",
    "spearsman: 排序之差的相关系数"
   ]
  },
  {
   "cell_type": "code",
   "execution_count": 13,
   "metadata": {
    "collapsed": false
   },
   "outputs": [
    {
     "name": "stdout",
     "output_type": "stream",
     "text": [
      "Pearson correlation coefficient: -0.0507772598212\n",
      "Spearman's rank correlation coefficient: -0.00196819681968\n"
     ]
    }
   ],
   "source": [
    "norm_dist = stats.norm()\n",
    "dat1 = norm_dist.rvs(size=100)\n",
    "exp_dist = stats.expon()\n",
    "dat2 = exp_dist.rvs(size=100)\n",
    "cor, pval = stats.pearsonr(dat1, dat2)\n",
    "print (\"Pearson correlation coefficient: \" + str(cor))\n",
    "cor, pval = stats.spearmanr(dat1, dat2)\n",
    "print(\"Spearman's rank correlation coefficient: \" + str(cor)) "
   ]
  },
  {
   "cell_type": "code",
   "execution_count": 14,
   "metadata": {
    "collapsed": false
   },
   "outputs": [
    {
     "data": {
      "text/plain": [
       "5.8842306965223428e-08"
      ]
     },
     "execution_count": 14,
     "metadata": {},
     "output_type": "execute_result"
    }
   ],
   "source": [
    "p_val"
   ]
  },
  {
   "cell_type": "markdown",
   "metadata": {},
   "source": [
    "线性回归"
   ]
  },
  {
   "cell_type": "code",
   "execution_count": 15,
   "metadata": {
    "collapsed": false
   },
   "outputs": [
    {
     "data": {
      "text/plain": [
       "1.4020753531218764"
      ]
     },
     "execution_count": 15,
     "metadata": {},
     "output_type": "execute_result"
    }
   ],
   "source": [
    "x = stats.chi2.rvs(3, size=50)\n",
    "y = 2.5 + 1.2 * x + stats.norm.rvs(size = 50, loc = 0, scale =2)\n",
    "slope, intercept, r_value, p_value, std_err = stats.linregress(x, y)\n",
    "slope"
   ]
  },
  {
   "cell_type": "code",
   "execution_count": 16,
   "metadata": {
    "collapsed": false
   },
   "outputs": [
    {
     "data": {
      "text/plain": [
       "1.9367518393754173"
      ]
     },
     "execution_count": 16,
     "metadata": {},
     "output_type": "execute_result"
    }
   ],
   "source": [
    "intercept"
   ]
  },
  {
   "cell_type": "code",
   "execution_count": 17,
   "metadata": {
    "collapsed": false
   },
   "outputs": [
    {
     "data": {
      "text/plain": [
       "(0.84719759323685084, 8.773325338143136e-15)"
      ]
     },
     "execution_count": 17,
     "metadata": {},
     "output_type": "execute_result"
    }
   ],
   "source": [
    "r_value, p_value"
   ]
  },
  {
   "cell_type": "code",
   "execution_count": 18,
   "metadata": {
    "collapsed": false
   },
   "outputs": [
    {
     "data": {
      "text/plain": [
       "0.12690764859620193"
      ]
     },
     "execution_count": 18,
     "metadata": {},
     "output_type": "execute_result"
    }
   ],
   "source": [
    "std_err"
   ]
  },
  {
   "cell_type": "markdown",
   "metadata": {},
   "source": [
    "优化部分"
   ]
  },
  {
   "cell_type": "code",
   "execution_count": null,
   "metadata": {
    "collapsed": true
   },
   "outputs": [],
   "source": []
  }
 ],
 "metadata": {
  "kernelspec": {
   "display_name": "Python 3",
   "language": "python",
   "name": "python3"
  },
  "language_info": {
   "codemirror_mode": {
    "name": "ipython",
    "version": 3
   },
   "file_extension": ".py",
   "mimetype": "text/x-python",
   "name": "python",
   "nbconvert_exporter": "python",
   "pygments_lexer": "ipython3",
   "version": "3.6.8"
  }
 },
 "nbformat": 4,
 "nbformat_minor": 2
}
